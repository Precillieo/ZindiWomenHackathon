{
  "nbformat": 4,
  "nbformat_minor": 0,
  "metadata": {
    "colab": {
      "name": "ZindiWomenHack.ipynb",
      "provenance": [],
      "collapsed_sections": []
    },
    "kernelspec": {
      "name": "python3",
      "display_name": "Python 3"
    },
    "language_info": {
      "name": "python"
    },
    "accelerator": "GPU"
  },
  "cells": [
    {
      "cell_type": "markdown",
      "metadata": {
        "id": "udvOMoKn8VLx"
      },
      "source": [
        "# Data Loading"
      ]
    },
    {
      "cell_type": "code",
      "metadata": {
        "colab": {
          "base_uri": "https://localhost:8080/"
        },
        "id": "3QhMrJmHWsWH",
        "outputId": "7a934367-a3b4-4af5-9a7c-7af1200cbce6"
      },
      "source": [
        "import pandas as pd\n",
        "import numpy as np\n",
        "!pip install lightgbm\n",
        "!pip install xgboost\n",
        "import xgboost as xgb\n",
        "import lightgbm as lgb\n",
        "from lightgbm import LGBMClassifier\n",
        "from sklearn.preprocessing import LabelEncoder\n",
        "from sklearn.metrics import roc_auc_score\n",
        "\n",
        "from sklearn.model_selection import StratifiedKFold\n",
        "from sklearn import preprocessing\n",
        "from sklearn.metrics import auc, classification_report, roc_auc_score\n",
        "from sklearn.model_selection import StratifiedKFold\n",
        "\n",
        "!pip install catboost\n",
        "from catboost import CatBoostClassifier, Pool"
      ],
      "execution_count": 1,
      "outputs": [
        {
          "output_type": "stream",
          "text": [
            "Requirement already satisfied: lightgbm in /usr/local/lib/python3.7/dist-packages (2.2.3)\n",
            "Requirement already satisfied: numpy in /usr/local/lib/python3.7/dist-packages (from lightgbm) (1.19.5)\n",
            "Requirement already satisfied: scikit-learn in /usr/local/lib/python3.7/dist-packages (from lightgbm) (0.22.2.post1)\n",
            "Requirement already satisfied: scipy in /usr/local/lib/python3.7/dist-packages (from lightgbm) (1.4.1)\n",
            "Requirement already satisfied: joblib>=0.11 in /usr/local/lib/python3.7/dist-packages (from scikit-learn->lightgbm) (1.0.1)\n",
            "Requirement already satisfied: xgboost in /usr/local/lib/python3.7/dist-packages (0.90)\n",
            "Requirement already satisfied: scipy in /usr/local/lib/python3.7/dist-packages (from xgboost) (1.4.1)\n",
            "Requirement already satisfied: numpy in /usr/local/lib/python3.7/dist-packages (from xgboost) (1.19.5)\n",
            "Requirement already satisfied: catboost in /usr/local/lib/python3.7/dist-packages (0.25.1)\n",
            "Requirement already satisfied: plotly in /usr/local/lib/python3.7/dist-packages (from catboost) (4.4.1)\n",
            "Requirement already satisfied: six in /usr/local/lib/python3.7/dist-packages (from catboost) (1.15.0)\n",
            "Requirement already satisfied: numpy>=1.16.0 in /usr/local/lib/python3.7/dist-packages (from catboost) (1.19.5)\n",
            "Requirement already satisfied: pandas>=0.24.0 in /usr/local/lib/python3.7/dist-packages (from catboost) (1.1.5)\n",
            "Requirement already satisfied: scipy in /usr/local/lib/python3.7/dist-packages (from catboost) (1.4.1)\n",
            "Requirement already satisfied: graphviz in /usr/local/lib/python3.7/dist-packages (from catboost) (0.10.1)\n",
            "Requirement already satisfied: matplotlib in /usr/local/lib/python3.7/dist-packages (from catboost) (3.2.2)\n",
            "Requirement already satisfied: retrying>=1.3.3 in /usr/local/lib/python3.7/dist-packages (from plotly->catboost) (1.3.3)\n",
            "Requirement already satisfied: pytz>=2017.2 in /usr/local/lib/python3.7/dist-packages (from pandas>=0.24.0->catboost) (2018.9)\n",
            "Requirement already satisfied: python-dateutil>=2.7.3 in /usr/local/lib/python3.7/dist-packages (from pandas>=0.24.0->catboost) (2.8.1)\n",
            "Requirement already satisfied: kiwisolver>=1.0.1 in /usr/local/lib/python3.7/dist-packages (from matplotlib->catboost) (1.3.1)\n",
            "Requirement already satisfied: pyparsing!=2.0.4,!=2.1.2,!=2.1.6,>=2.0.1 in /usr/local/lib/python3.7/dist-packages (from matplotlib->catboost) (2.4.7)\n",
            "Requirement already satisfied: cycler>=0.10 in /usr/local/lib/python3.7/dist-packages (from matplotlib->catboost) (0.10.0)\n"
          ],
          "name": "stdout"
        }
      ]
    },
    {
      "cell_type": "code",
      "metadata": {
        "id": "EsvMgmQJYkZ1"
      },
      "source": [
        "train= pd.read_csv('/content/drive/MyDrive/Women/Train.csv')\n",
        "test= pd.read_csv('/content/drive/MyDrive/Women/Test.csv')\n",
        "ss= pd.read_csv('/content/drive/MyDrive/Women/SampleSubmission.csv')\n",
        "vd= pd.read_csv('/content/drive/MyDrive/Women/VariableDefinitions.csv')"
      ],
      "execution_count": 2,
      "outputs": []
    },
    {
      "cell_type": "code",
      "metadata": {
        "colab": {
          "base_uri": "https://localhost:8080/",
          "height": 520
        },
        "id": "S3qhRRHW8ieo",
        "outputId": "fb0841f2-84d1-4516-9e8b-4c96a3c3875f"
      },
      "source": [
        "train.head()"
      ],
      "execution_count": 3,
      "outputs": [
        {
          "output_type": "execute_result",
          "data": {
            "text/html": [
              "<div>\n",
              "<style scoped>\n",
              "    .dataframe tbody tr th:only-of-type {\n",
              "        vertical-align: middle;\n",
              "    }\n",
              "\n",
              "    .dataframe tbody tr th {\n",
              "        vertical-align: top;\n",
              "    }\n",
              "\n",
              "    .dataframe thead th {\n",
              "        text-align: right;\n",
              "    }\n",
              "</style>\n",
              "<table border=\"1\" class=\"dataframe\">\n",
              "  <thead>\n",
              "    <tr style=\"text-align: right;\">\n",
              "      <th></th>\n",
              "      <th>ID</th>\n",
              "      <th>gender</th>\n",
              "      <th>age</th>\n",
              "      <th>race</th>\n",
              "      <th>dwelling</th>\n",
              "      <th>dwelling_type</th>\n",
              "      <th>province_code</th>\n",
              "      <th>metro_code</th>\n",
              "      <th>psu</th>\n",
              "      <th>nationality</th>\n",
              "      <th>RTH</th>\n",
              "      <th>marital_st</th>\n",
              "      <th>Lang_inside</th>\n",
              "      <th>Lang_outside</th>\n",
              "      <th>Education</th>\n",
              "      <th>lw_work</th>\n",
              "      <th>lw_business</th>\n",
              "      <th>help_on_household</th>\n",
              "      <th>job_or_business</th>\n",
              "      <th>nature_of_work</th>\n",
              "      <th>target</th>\n",
              "    </tr>\n",
              "  </thead>\n",
              "  <tbody>\n",
              "    <tr>\n",
              "      <th>0</th>\n",
              "      <td>ID_00008683</td>\n",
              "      <td>Female</td>\n",
              "      <td>20</td>\n",
              "      <td>Black African</td>\n",
              "      <td>Dwelling/house or brick/concrete block structu...</td>\n",
              "      <td>Formal</td>\n",
              "      <td>North West</td>\n",
              "      <td>NW - Non Metro</td>\n",
              "      <td>66710095</td>\n",
              "      <td>South Africa</td>\n",
              "      <td>Son/daughter/stepchild/adopted child of person 01</td>\n",
              "      <td>Single and have never been married/never lived...</td>\n",
              "      <td>Xitsonga</td>\n",
              "      <td>Setswana</td>\n",
              "      <td>Grade 11/Standard 9/Form 4</td>\n",
              "      <td>No</td>\n",
              "      <td>No</td>\n",
              "      <td>No</td>\n",
              "      <td>No</td>\n",
              "      <td>Not applicable</td>\n",
              "      <td>0</td>\n",
              "    </tr>\n",
              "    <tr>\n",
              "      <th>1</th>\n",
              "      <td>ID_00061163</td>\n",
              "      <td>Female</td>\n",
              "      <td>42</td>\n",
              "      <td>Black African</td>\n",
              "      <td>Dwelling/house or brick/concrete block structu...</td>\n",
              "      <td>Formal</td>\n",
              "      <td>Limpopo</td>\n",
              "      <td>LP - Non Metro</td>\n",
              "      <td>98510279</td>\n",
              "      <td>South Africa</td>\n",
              "      <td>Other relative (e.g. in-laws or aunt/uncle) of...</td>\n",
              "      <td>Living together like husband and wife</td>\n",
              "      <td>Sepedi</td>\n",
              "      <td>Sepedi</td>\n",
              "      <td>Grade 12/Standard 10/Form 5/Matric (No Exemption)</td>\n",
              "      <td>Yes</td>\n",
              "      <td>No</td>\n",
              "      <td>No</td>\n",
              "      <td>Not applicable</td>\n",
              "      <td>Permanent</td>\n",
              "      <td>0</td>\n",
              "    </tr>\n",
              "    <tr>\n",
              "      <th>2</th>\n",
              "      <td>ID_00071403</td>\n",
              "      <td>Female</td>\n",
              "      <td>86</td>\n",
              "      <td>Black African</td>\n",
              "      <td>Dwelling/house or brick/concrete block structu...</td>\n",
              "      <td>Formal</td>\n",
              "      <td>Eastern Cape</td>\n",
              "      <td>EC - Non Metro</td>\n",
              "      <td>29210321</td>\n",
              "      <td>South Africa</td>\n",
              "      <td>Father/mother/stepfather/stepmother of person 01</td>\n",
              "      <td>Widowed</td>\n",
              "      <td>IsiXhosa</td>\n",
              "      <td>IsiXhosa</td>\n",
              "      <td>Unspecified</td>\n",
              "      <td>No</td>\n",
              "      <td>No</td>\n",
              "      <td>No</td>\n",
              "      <td>No</td>\n",
              "      <td>Not applicable</td>\n",
              "      <td>0</td>\n",
              "    </tr>\n",
              "    <tr>\n",
              "      <th>3</th>\n",
              "      <td>ID_00077803</td>\n",
              "      <td>Female</td>\n",
              "      <td>20</td>\n",
              "      <td>Black African</td>\n",
              "      <td>Town house (semi-detached house in complex)</td>\n",
              "      <td>Formal</td>\n",
              "      <td>KwaZulu-Natal</td>\n",
              "      <td>KZN - eThekwini</td>\n",
              "      <td>59913860</td>\n",
              "      <td>South Africa</td>\n",
              "      <td>Son/daughter/stepchild/adopted child of person 01</td>\n",
              "      <td>Single and have never been married/never lived...</td>\n",
              "      <td>IsiZulu</td>\n",
              "      <td>IsiZulu</td>\n",
              "      <td>Grade 12/Standard 10/Form 5/Matric (No Exemption)</td>\n",
              "      <td>No</td>\n",
              "      <td>No</td>\n",
              "      <td>No</td>\n",
              "      <td>No</td>\n",
              "      <td>Not applicable</td>\n",
              "      <td>0</td>\n",
              "    </tr>\n",
              "    <tr>\n",
              "      <th>4</th>\n",
              "      <td>ID_00086763</td>\n",
              "      <td>Female</td>\n",
              "      <td>26</td>\n",
              "      <td>Black African</td>\n",
              "      <td>Town house (semi-detached house in complex)</td>\n",
              "      <td>Formal</td>\n",
              "      <td>Gauteng</td>\n",
              "      <td>GP - City of Johannesburg</td>\n",
              "      <td>79813828</td>\n",
              "      <td>South Africa</td>\n",
              "      <td>Son/daughter/stepchild/adopted child of person 01</td>\n",
              "      <td>Single and have never been married/never lived...</td>\n",
              "      <td>Setswana</td>\n",
              "      <td>English</td>\n",
              "      <td>Grade 12/Standard 10/Form 5/Matric (No Exemption)</td>\n",
              "      <td>No</td>\n",
              "      <td>No</td>\n",
              "      <td>No</td>\n",
              "      <td>No</td>\n",
              "      <td>Not applicable</td>\n",
              "      <td>0</td>\n",
              "    </tr>\n",
              "  </tbody>\n",
              "</table>\n",
              "</div>"
            ],
            "text/plain": [
              "            ID  gender  age  ... job_or_business  nature_of_work target\n",
              "0  ID_00008683  Female   20  ...              No  Not applicable      0\n",
              "1  ID_00061163  Female   42  ...  Not applicable       Permanent      0\n",
              "2  ID_00071403  Female   86  ...              No  Not applicable      0\n",
              "3  ID_00077803  Female   20  ...              No  Not applicable      0\n",
              "4  ID_00086763  Female   26  ...              No  Not applicable      0\n",
              "\n",
              "[5 rows x 21 columns]"
            ]
          },
          "metadata": {
            "tags": []
          },
          "execution_count": 3
        }
      ]
    },
    {
      "cell_type": "code",
      "metadata": {
        "colab": {
          "base_uri": "https://localhost:8080/",
          "height": 536
        },
        "id": "tvfeucN48iAU",
        "outputId": "4b241c8c-75ad-49fe-9041-ec1cfca9a676"
      },
      "source": [
        "test.head()"
      ],
      "execution_count": 4,
      "outputs": [
        {
          "output_type": "execute_result",
          "data": {
            "text/html": [
              "<div>\n",
              "<style scoped>\n",
              "    .dataframe tbody tr th:only-of-type {\n",
              "        vertical-align: middle;\n",
              "    }\n",
              "\n",
              "    .dataframe tbody tr th {\n",
              "        vertical-align: top;\n",
              "    }\n",
              "\n",
              "    .dataframe thead th {\n",
              "        text-align: right;\n",
              "    }\n",
              "</style>\n",
              "<table border=\"1\" class=\"dataframe\">\n",
              "  <thead>\n",
              "    <tr style=\"text-align: right;\">\n",
              "      <th></th>\n",
              "      <th>ID</th>\n",
              "      <th>gender</th>\n",
              "      <th>age</th>\n",
              "      <th>race</th>\n",
              "      <th>dwelling</th>\n",
              "      <th>dwelling_type</th>\n",
              "      <th>province_code</th>\n",
              "      <th>metro_code</th>\n",
              "      <th>psu</th>\n",
              "      <th>nationality</th>\n",
              "      <th>RTH</th>\n",
              "      <th>marital_st</th>\n",
              "      <th>Lang_inside</th>\n",
              "      <th>Lang_outside</th>\n",
              "      <th>Education</th>\n",
              "      <th>lw_work</th>\n",
              "      <th>lw_business</th>\n",
              "      <th>help_on_household</th>\n",
              "      <th>job_or_business</th>\n",
              "      <th>nature_of_work</th>\n",
              "    </tr>\n",
              "  </thead>\n",
              "  <tbody>\n",
              "    <tr>\n",
              "      <th>0</th>\n",
              "      <td>ID_00241643</td>\n",
              "      <td>Female</td>\n",
              "      <td>23</td>\n",
              "      <td>Coloured</td>\n",
              "      <td>Dwelling/house or brick/concrete block structu...</td>\n",
              "      <td>Formal</td>\n",
              "      <td>Northern Cape</td>\n",
              "      <td>NC - Non Metro</td>\n",
              "      <td>36410104</td>\n",
              "      <td>South Africa</td>\n",
              "      <td>Head/acting head</td>\n",
              "      <td>Single and have never been married/never lived...</td>\n",
              "      <td>Afrikaans</td>\n",
              "      <td>Afrikaans</td>\n",
              "      <td>Grade 10/Standard 8/Form 3</td>\n",
              "      <td>Yes</td>\n",
              "      <td>No</td>\n",
              "      <td>No</td>\n",
              "      <td>Not applicable</td>\n",
              "      <td>Permanent</td>\n",
              "    </tr>\n",
              "    <tr>\n",
              "      <th>1</th>\n",
              "      <td>ID_00312043</td>\n",
              "      <td>Female</td>\n",
              "      <td>64</td>\n",
              "      <td>Black African</td>\n",
              "      <td>Dwelling/house or brick/concrete block structu...</td>\n",
              "      <td>Formal</td>\n",
              "      <td>Limpopo</td>\n",
              "      <td>LP - Non Metro</td>\n",
              "      <td>97410477</td>\n",
              "      <td>South Africa</td>\n",
              "      <td>Head/acting head</td>\n",
              "      <td>Widowed</td>\n",
              "      <td>Afrikaans</td>\n",
              "      <td>Afrikaans</td>\n",
              "      <td>Grade 12/Standard 10/Form 5/Matric (No Exemption)</td>\n",
              "      <td>No</td>\n",
              "      <td>No</td>\n",
              "      <td>No</td>\n",
              "      <td>No</td>\n",
              "      <td>Not applicable</td>\n",
              "    </tr>\n",
              "    <tr>\n",
              "      <th>2</th>\n",
              "      <td>ID_00345323</td>\n",
              "      <td>Female</td>\n",
              "      <td>18</td>\n",
              "      <td>Black African</td>\n",
              "      <td>Unspecified</td>\n",
              "      <td>Unspecified</td>\n",
              "      <td>Eastern Cape</td>\n",
              "      <td>EC - Buffalo City</td>\n",
              "      <td>26011572</td>\n",
              "      <td>South Africa</td>\n",
              "      <td>Son/daughter/stepchild/adopted child of person 01</td>\n",
              "      <td>Single and have never been married/never lived...</td>\n",
              "      <td>IsiXhosa</td>\n",
              "      <td>IsiXhosa</td>\n",
              "      <td>Grade 11/Standard 9/Form 4</td>\n",
              "      <td>No</td>\n",
              "      <td>No</td>\n",
              "      <td>No</td>\n",
              "      <td>No</td>\n",
              "      <td>Not applicable</td>\n",
              "    </tr>\n",
              "    <tr>\n",
              "      <th>3</th>\n",
              "      <td>ID_00369643</td>\n",
              "      <td>Female</td>\n",
              "      <td>19</td>\n",
              "      <td>Black African</td>\n",
              "      <td>Dwelling/house or brick/concrete block structu...</td>\n",
              "      <td>Formal</td>\n",
              "      <td>Mpumalanga</td>\n",
              "      <td>MP - Non Metro</td>\n",
              "      <td>87710674</td>\n",
              "      <td>South Africa</td>\n",
              "      <td>Son/daughter/stepchild/adopted child of person 01</td>\n",
              "      <td>Single and have never been married/never lived...</td>\n",
              "      <td>Xitsonga</td>\n",
              "      <td>Sepedi</td>\n",
              "      <td>Grade 12/Standard 10/Form 5/Matric (No Exemption)</td>\n",
              "      <td>No</td>\n",
              "      <td>No</td>\n",
              "      <td>No</td>\n",
              "      <td>No</td>\n",
              "      <td>Not applicable</td>\n",
              "    </tr>\n",
              "    <tr>\n",
              "      <th>4</th>\n",
              "      <td>ID_00381163</td>\n",
              "      <td>Female</td>\n",
              "      <td>24</td>\n",
              "      <td>Black African</td>\n",
              "      <td>Dwelling/house or brick/concrete block structu...</td>\n",
              "      <td>Formal</td>\n",
              "      <td>Mpumalanga</td>\n",
              "      <td>MP - Non Metro</td>\n",
              "      <td>87411106</td>\n",
              "      <td>South Africa</td>\n",
              "      <td>Head/acting head</td>\n",
              "      <td>Single and have never been married/never lived...</td>\n",
              "      <td>SiSwati</td>\n",
              "      <td>SiSwati</td>\n",
              "      <td>Grade 11/Standard 9/Form 4</td>\n",
              "      <td>No</td>\n",
              "      <td>No</td>\n",
              "      <td>No</td>\n",
              "      <td>No</td>\n",
              "      <td>Not applicable</td>\n",
              "    </tr>\n",
              "  </tbody>\n",
              "</table>\n",
              "</div>"
            ],
            "text/plain": [
              "            ID  gender  age  ... help_on_household job_or_business  nature_of_work\n",
              "0  ID_00241643  Female   23  ...                No  Not applicable       Permanent\n",
              "1  ID_00312043  Female   64  ...                No              No  Not applicable\n",
              "2  ID_00345323  Female   18  ...                No              No  Not applicable\n",
              "3  ID_00369643  Female   19  ...                No              No  Not applicable\n",
              "4  ID_00381163  Female   24  ...                No              No  Not applicable\n",
              "\n",
              "[5 rows x 20 columns]"
            ]
          },
          "metadata": {
            "tags": []
          },
          "execution_count": 4
        }
      ]
    },
    {
      "cell_type": "code",
      "metadata": {
        "colab": {
          "base_uri": "https://localhost:8080/"
        },
        "id": "ZxlMfnhR8oUg",
        "outputId": "1682490f-0c42-452c-b79f-da7e8ca1f2fc"
      },
      "source": [
        "train.dtypes"
      ],
      "execution_count": 5,
      "outputs": [
        {
          "output_type": "execute_result",
          "data": {
            "text/plain": [
              "ID                   object\n",
              "gender               object\n",
              "age                   int64\n",
              "race                 object\n",
              "dwelling             object\n",
              "dwelling_type        object\n",
              "province_code        object\n",
              "metro_code           object\n",
              "psu                   int64\n",
              "nationality          object\n",
              "RTH                  object\n",
              "marital_st           object\n",
              "Lang_inside          object\n",
              "Lang_outside         object\n",
              "Education            object\n",
              "lw_work              object\n",
              "lw_business          object\n",
              "help_on_household    object\n",
              "job_or_business      object\n",
              "nature_of_work       object\n",
              "target                int64\n",
              "dtype: object"
            ]
          },
          "metadata": {
            "tags": []
          },
          "execution_count": 5
        }
      ]
    },
    {
      "cell_type": "code",
      "metadata": {
        "colab": {
          "base_uri": "https://localhost:8080/"
        },
        "id": "PX9fJPxM8rFF",
        "outputId": "4af16e6b-0425-4081-e40c-2b8c164aaa44"
      },
      "source": [
        "train.isnull().sum()"
      ],
      "execution_count": 6,
      "outputs": [
        {
          "output_type": "execute_result",
          "data": {
            "text/plain": [
              "ID                   0\n",
              "gender               0\n",
              "age                  0\n",
              "race                 0\n",
              "dwelling             0\n",
              "dwelling_type        0\n",
              "province_code        0\n",
              "metro_code           0\n",
              "psu                  0\n",
              "nationality          0\n",
              "RTH                  0\n",
              "marital_st           0\n",
              "Lang_inside          0\n",
              "Lang_outside         0\n",
              "Education            0\n",
              "lw_work              0\n",
              "lw_business          0\n",
              "help_on_household    0\n",
              "job_or_business      0\n",
              "nature_of_work       0\n",
              "target               0\n",
              "dtype: int64"
            ]
          },
          "metadata": {
            "tags": []
          },
          "execution_count": 6
        }
      ]
    },
    {
      "cell_type": "markdown",
      "metadata": {
        "id": "Ggw-m2fy8uQq"
      },
      "source": [
        "# Data Encoding"
      ]
    },
    {
      "cell_type": "code",
      "metadata": {
        "id": "m6ghI5sDYkVg"
      },
      "source": [
        "cols= ['ID', 'gender', 'race', 'dwelling', 'dwelling_type', 'province_code', 'metro_code', 'nationality', 'RTH', 'marital_st', 'Lang_inside', 'Lang_outside', 'Education', 'lw_work',\n",
        "       'lw_business', 'help_on_household', 'job_or_business', 'nature_of_work']"
      ],
      "execution_count": 7,
      "outputs": []
    },
    {
      "cell_type": "code",
      "metadata": {
        "id": "oI5bkFBabQ9J"
      },
      "source": [
        "for y in cols:\n",
        "  le= LabelEncoder()\n",
        "  test[y]= le.fit_transform(test[y].values)"
      ],
      "execution_count": 8,
      "outputs": []
    },
    {
      "cell_type": "code",
      "metadata": {
        "id": "JkqRM2sJbYID"
      },
      "source": [
        "for y in cols:\n",
        "  le= LabelEncoder()\n",
        "  train[y]= le.fit_transform(train[y].values)"
      ],
      "execution_count": 9,
      "outputs": []
    },
    {
      "cell_type": "markdown",
      "metadata": {
        "id": "dM17OOMr8zb6"
      },
      "source": [
        "# Modeling"
      ]
    },
    {
      "cell_type": "code",
      "metadata": {
        "id": "xI77OE2CYkTr"
      },
      "source": [
        "X= train.drop('target', axis=1)"
      ],
      "execution_count": 10,
      "outputs": []
    },
    {
      "cell_type": "code",
      "metadata": {
        "id": "VEJobAnnaIGs"
      },
      "source": [
        "def seed_everything(seed):\n",
        "    np.random.seed(seed)\n",
        "SEED = 25  \n",
        "seed_everything(SEED)"
      ],
      "execution_count": 11,
      "outputs": []
    },
    {
      "cell_type": "code",
      "metadata": {
        "id": "Dc_Tq2W3YkRP"
      },
      "source": [
        "y= train['target']"
      ],
      "execution_count": 12,
      "outputs": []
    },
    {
      "cell_type": "code",
      "metadata": {
        "id": "7Joo24GoYkPA"
      },
      "source": [
        "#Parameters\n",
        "lgb_params = {'boosting_type': 'gbdt','objective': 'binary','metric': 'auc', 'learning_rate': 0.005,\n",
        "              'n_estimators': 5000,'early_stopping_rounds': 300,'sub_sample' : 0.5,'max_depth':17, 'reg_alpha':1,'reg_lambda':2,'subsample_freq':1,\n",
        "              'colsample_bytree' : 0.2,'seed': SEED,'silent':False\n",
        "            }"
      ],
      "execution_count": 13,
      "outputs": []
    },
    {
      "cell_type": "code",
      "metadata": {
        "colab": {
          "base_uri": "https://localhost:8080/"
        },
        "id": "p1UNku73ZBvf",
        "outputId": "5ec41240-970e-42ea-87fc-e57ad5c48169"
      },
      "source": [
        "\n",
        "score = 0\n",
        "test['target'] = 0\n",
        "skf = StratifiedKFold(n_splits=15,shuffle=True, random_state=SEED)\n",
        "oof_lgb = np.zeros((train.shape[0],))\n",
        "lgb_preds = []\n",
        "for fold_, (trn_idx, val_idx) in enumerate(skf.split(X, y)):\n",
        "    print('Fold:',fold_+1)\n",
        "        \n",
        "    # Creating lgb train/valid data\n",
        "    tr_x, tr_y = X.iloc[trn_idx,:], y[trn_idx] \n",
        "    vl_x, vl_y = X.iloc[val_idx,:], y[val_idx] \n",
        "        \n",
        "    train_data = lgb.Dataset(tr_x, label=tr_y,categorical_feature=cols)\n",
        "    valid_data = lgb.Dataset(vl_x, label=vl_y,categorical_feature=cols)\n",
        "    # Train Model\n",
        "    \n",
        "    estimator = lgb.train(\n",
        "                          lgb_params,\n",
        "                          train_data,\n",
        "                          valid_sets = [train_data,valid_data],\n",
        "                          verbose_eval = 100,\n",
        "                        )\n",
        "\n",
        "    y_pred_val = estimator.predict(vl_x,num_iteration=estimator.best_iteration)\n",
        "    oof_lgb[val_idx] = y_pred_val\n",
        "    score = score + roc_auc_score(vl_y, y_pred_val)\n",
        "    y_pred_test = estimator.predict(test,num_iteration=estimator.best_iteration)\n",
        "    lgb_preds.append(y_pred_test)\n",
        "\n",
        "print('OOF score :',roc_auc_score(y, oof_lgb))"
      ],
      "execution_count": 14,
      "outputs": [
        {
          "output_type": "stream",
          "text": [
            "Fold: 1\n",
            "Training until validation scores don't improve for 300 rounds.\n"
          ],
          "name": "stdout"
        },
        {
          "output_type": "stream",
          "text": [
            "/usr/local/lib/python3.7/dist-packages/lightgbm/engine.py:118: UserWarning: Found `n_estimators` in params. Will use it instead of argument\n",
            "  warnings.warn(\"Found `{}` in params. Will use it instead of argument\".format(alias))\n",
            "/usr/local/lib/python3.7/dist-packages/lightgbm/engine.py:123: UserWarning: Found `early_stopping_rounds` in params. Will use it instead of argument\n",
            "  warnings.warn(\"Found `{}` in params. Will use it instead of argument\".format(alias))\n",
            "/usr/local/lib/python3.7/dist-packages/lightgbm/basic.py:1205: UserWarning: Using categorical_feature in Dataset.\n",
            "  warnings.warn('Using categorical_feature in Dataset.')\n",
            "/usr/local/lib/python3.7/dist-packages/lightgbm/basic.py:741: UserWarning: silent keyword has been found in `params` and will be ignored.\n",
            "Please use silent argument of the Dataset constructor to pass this parameter.\n",
            "  .format(key))\n",
            "/usr/local/lib/python3.7/dist-packages/lightgbm/basic.py:762: UserWarning: categorical_feature in param dict is overridden.\n",
            "  warnings.warn('categorical_feature in param dict is overridden.')\n"
          ],
          "name": "stderr"
        },
        {
          "output_type": "stream",
          "text": [
            "[100]\ttraining's auc: 0.743871\tvalid_1's auc: 0.653046\n",
            "[200]\ttraining's auc: 0.750482\tvalid_1's auc: 0.661187\n",
            "[300]\ttraining's auc: 0.757366\tvalid_1's auc: 0.661134\n",
            "[400]\ttraining's auc: 0.764998\tvalid_1's auc: 0.659821\n",
            "[500]\ttraining's auc: 0.771367\tvalid_1's auc: 0.661082\n",
            "[600]\ttraining's auc: 0.776377\tvalid_1's auc: 0.660242\n",
            "Early stopping, best iteration is:\n",
            "[319]\ttraining's auc: 0.758914\tvalid_1's auc: 0.663655\n",
            "Fold: 2\n",
            "Training until validation scores don't improve for 300 rounds.\n"
          ],
          "name": "stdout"
        },
        {
          "output_type": "stream",
          "text": [
            "/usr/local/lib/python3.7/dist-packages/lightgbm/engine.py:118: UserWarning: Found `n_estimators` in params. Will use it instead of argument\n",
            "  warnings.warn(\"Found `{}` in params. Will use it instead of argument\".format(alias))\n",
            "/usr/local/lib/python3.7/dist-packages/lightgbm/engine.py:123: UserWarning: Found `early_stopping_rounds` in params. Will use it instead of argument\n",
            "  warnings.warn(\"Found `{}` in params. Will use it instead of argument\".format(alias))\n",
            "/usr/local/lib/python3.7/dist-packages/lightgbm/basic.py:1205: UserWarning: Using categorical_feature in Dataset.\n",
            "  warnings.warn('Using categorical_feature in Dataset.')\n",
            "/usr/local/lib/python3.7/dist-packages/lightgbm/basic.py:741: UserWarning: silent keyword has been found in `params` and will be ignored.\n",
            "Please use silent argument of the Dataset constructor to pass this parameter.\n",
            "  .format(key))\n",
            "/usr/local/lib/python3.7/dist-packages/lightgbm/basic.py:762: UserWarning: categorical_feature in param dict is overridden.\n",
            "  warnings.warn('categorical_feature in param dict is overridden.')\n"
          ],
          "name": "stderr"
        },
        {
          "output_type": "stream",
          "text": [
            "[100]\ttraining's auc: 0.746413\tvalid_1's auc: 0.597899\n",
            "[200]\ttraining's auc: 0.751847\tvalid_1's auc: 0.5927\n",
            "[300]\ttraining's auc: 0.758118\tvalid_1's auc: 0.595063\n",
            "Early stopping, best iteration is:\n",
            "[1]\ttraining's auc: 0.689094\tvalid_1's auc: 0.655777\n",
            "Fold: 3\n",
            "Training until validation scores don't improve for 300 rounds.\n"
          ],
          "name": "stdout"
        },
        {
          "output_type": "stream",
          "text": [
            "/usr/local/lib/python3.7/dist-packages/lightgbm/engine.py:118: UserWarning: Found `n_estimators` in params. Will use it instead of argument\n",
            "  warnings.warn(\"Found `{}` in params. Will use it instead of argument\".format(alias))\n",
            "/usr/local/lib/python3.7/dist-packages/lightgbm/engine.py:123: UserWarning: Found `early_stopping_rounds` in params. Will use it instead of argument\n",
            "  warnings.warn(\"Found `{}` in params. Will use it instead of argument\".format(alias))\n",
            "/usr/local/lib/python3.7/dist-packages/lightgbm/basic.py:1205: UserWarning: Using categorical_feature in Dataset.\n",
            "  warnings.warn('Using categorical_feature in Dataset.')\n",
            "/usr/local/lib/python3.7/dist-packages/lightgbm/basic.py:741: UserWarning: silent keyword has been found in `params` and will be ignored.\n",
            "Please use silent argument of the Dataset constructor to pass this parameter.\n",
            "  .format(key))\n",
            "/usr/local/lib/python3.7/dist-packages/lightgbm/basic.py:762: UserWarning: categorical_feature in param dict is overridden.\n",
            "  warnings.warn('categorical_feature in param dict is overridden.')\n"
          ],
          "name": "stderr"
        },
        {
          "output_type": "stream",
          "text": [
            "[100]\ttraining's auc: 0.748826\tvalid_1's auc: 0.63855\n",
            "[200]\ttraining's auc: 0.753428\tvalid_1's auc: 0.642805\n",
            "[300]\ttraining's auc: 0.760188\tvalid_1's auc: 0.641282\n",
            "[400]\ttraining's auc: 0.768098\tvalid_1's auc: 0.6448\n",
            "[500]\ttraining's auc: 0.774166\tvalid_1's auc: 0.644223\n",
            "[600]\ttraining's auc: 0.779385\tvalid_1's auc: 0.642279\n",
            "Early stopping, best iteration is:\n",
            "[362]\ttraining's auc: 0.764678\tvalid_1's auc: 0.645903\n",
            "Fold: 4\n",
            "Training until validation scores don't improve for 300 rounds.\n"
          ],
          "name": "stdout"
        },
        {
          "output_type": "stream",
          "text": [
            "/usr/local/lib/python3.7/dist-packages/lightgbm/engine.py:118: UserWarning: Found `n_estimators` in params. Will use it instead of argument\n",
            "  warnings.warn(\"Found `{}` in params. Will use it instead of argument\".format(alias))\n",
            "/usr/local/lib/python3.7/dist-packages/lightgbm/engine.py:123: UserWarning: Found `early_stopping_rounds` in params. Will use it instead of argument\n",
            "  warnings.warn(\"Found `{}` in params. Will use it instead of argument\".format(alias))\n",
            "/usr/local/lib/python3.7/dist-packages/lightgbm/basic.py:1205: UserWarning: Using categorical_feature in Dataset.\n",
            "  warnings.warn('Using categorical_feature in Dataset.')\n",
            "/usr/local/lib/python3.7/dist-packages/lightgbm/basic.py:741: UserWarning: silent keyword has been found in `params` and will be ignored.\n",
            "Please use silent argument of the Dataset constructor to pass this parameter.\n",
            "  .format(key))\n",
            "/usr/local/lib/python3.7/dist-packages/lightgbm/basic.py:762: UserWarning: categorical_feature in param dict is overridden.\n",
            "  warnings.warn('categorical_feature in param dict is overridden.')\n"
          ],
          "name": "stderr"
        },
        {
          "output_type": "stream",
          "text": [
            "[100]\ttraining's auc: 0.74179\tvalid_1's auc: 0.621822\n",
            "[200]\ttraining's auc: 0.746624\tvalid_1's auc: 0.628598\n",
            "[300]\ttraining's auc: 0.752857\tvalid_1's auc: 0.636266\n",
            "[400]\ttraining's auc: 0.761523\tvalid_1's auc: 0.640651\n",
            "[500]\ttraining's auc: 0.766968\tvalid_1's auc: 0.642962\n",
            "[600]\ttraining's auc: 0.772128\tvalid_1's auc: 0.647059\n",
            "[700]\ttraining's auc: 0.778584\tvalid_1's auc: 0.648897\n",
            "[800]\ttraining's auc: 0.784112\tvalid_1's auc: 0.652311\n",
            "[900]\ttraining's auc: 0.789458\tvalid_1's auc: 0.654412\n",
            "[1000]\ttraining's auc: 0.794476\tvalid_1's auc: 0.654989\n",
            "[1100]\ttraining's auc: 0.800004\tvalid_1's auc: 0.657983\n",
            "[1200]\ttraining's auc: 0.804732\tvalid_1's auc: 0.658771\n",
            "[1300]\ttraining's auc: 0.809242\tvalid_1's auc: 0.658666\n",
            "[1400]\ttraining's auc: 0.813064\tvalid_1's auc: 0.658876\n",
            "[1500]\ttraining's auc: 0.817996\tvalid_1's auc: 0.658824\n",
            "Early stopping, best iteration is:\n",
            "[1271]\ttraining's auc: 0.808133\tvalid_1's auc: 0.659979\n",
            "Fold: 5\n",
            "Training until validation scores don't improve for 300 rounds.\n"
          ],
          "name": "stdout"
        },
        {
          "output_type": "stream",
          "text": [
            "/usr/local/lib/python3.7/dist-packages/lightgbm/engine.py:118: UserWarning: Found `n_estimators` in params. Will use it instead of argument\n",
            "  warnings.warn(\"Found `{}` in params. Will use it instead of argument\".format(alias))\n",
            "/usr/local/lib/python3.7/dist-packages/lightgbm/engine.py:123: UserWarning: Found `early_stopping_rounds` in params. Will use it instead of argument\n",
            "  warnings.warn(\"Found `{}` in params. Will use it instead of argument\".format(alias))\n",
            "/usr/local/lib/python3.7/dist-packages/lightgbm/basic.py:1205: UserWarning: Using categorical_feature in Dataset.\n",
            "  warnings.warn('Using categorical_feature in Dataset.')\n",
            "/usr/local/lib/python3.7/dist-packages/lightgbm/basic.py:741: UserWarning: silent keyword has been found in `params` and will be ignored.\n",
            "Please use silent argument of the Dataset constructor to pass this parameter.\n",
            "  .format(key))\n",
            "/usr/local/lib/python3.7/dist-packages/lightgbm/basic.py:762: UserWarning: categorical_feature in param dict is overridden.\n",
            "  warnings.warn('categorical_feature in param dict is overridden.')\n"
          ],
          "name": "stderr"
        },
        {
          "output_type": "stream",
          "text": [
            "[100]\ttraining's auc: 0.740025\tvalid_1's auc: 0.73855\n",
            "[200]\ttraining's auc: 0.745368\tvalid_1's auc: 0.742726\n",
            "[300]\ttraining's auc: 0.751653\tvalid_1's auc: 0.741255\n",
            "Early stopping, best iteration is:\n",
            "[8]\ttraining's auc: 0.740618\tvalid_1's auc: 0.745693\n",
            "Fold: 6\n",
            "Training until validation scores don't improve for 300 rounds.\n"
          ],
          "name": "stdout"
        },
        {
          "output_type": "stream",
          "text": [
            "/usr/local/lib/python3.7/dist-packages/lightgbm/engine.py:118: UserWarning: Found `n_estimators` in params. Will use it instead of argument\n",
            "  warnings.warn(\"Found `{}` in params. Will use it instead of argument\".format(alias))\n",
            "/usr/local/lib/python3.7/dist-packages/lightgbm/engine.py:123: UserWarning: Found `early_stopping_rounds` in params. Will use it instead of argument\n",
            "  warnings.warn(\"Found `{}` in params. Will use it instead of argument\".format(alias))\n",
            "/usr/local/lib/python3.7/dist-packages/lightgbm/basic.py:1205: UserWarning: Using categorical_feature in Dataset.\n",
            "  warnings.warn('Using categorical_feature in Dataset.')\n",
            "/usr/local/lib/python3.7/dist-packages/lightgbm/basic.py:741: UserWarning: silent keyword has been found in `params` and will be ignored.\n",
            "Please use silent argument of the Dataset constructor to pass this parameter.\n",
            "  .format(key))\n",
            "/usr/local/lib/python3.7/dist-packages/lightgbm/basic.py:762: UserWarning: categorical_feature in param dict is overridden.\n",
            "  warnings.warn('categorical_feature in param dict is overridden.')\n"
          ],
          "name": "stderr"
        },
        {
          "output_type": "stream",
          "text": [
            "[100]\ttraining's auc: 0.744557\tvalid_1's auc: 0.622111\n",
            "[200]\ttraining's auc: 0.749456\tvalid_1's auc: 0.622952\n",
            "[300]\ttraining's auc: 0.755085\tvalid_1's auc: 0.625735\n",
            "[400]\ttraining's auc: 0.762308\tvalid_1's auc: 0.629832\n",
            "[500]\ttraining's auc: 0.767786\tvalid_1's auc: 0.6323\n",
            "[600]\ttraining's auc: 0.772612\tvalid_1's auc: 0.637553\n",
            "[700]\ttraining's auc: 0.778558\tvalid_1's auc: 0.640809\n",
            "[800]\ttraining's auc: 0.784046\tvalid_1's auc: 0.640651\n",
            "[900]\ttraining's auc: 0.789514\tvalid_1's auc: 0.641859\n",
            "[1000]\ttraining's auc: 0.79421\tvalid_1's auc: 0.643592\n",
            "[1100]\ttraining's auc: 0.799517\tvalid_1's auc: 0.645588\n",
            "[1200]\ttraining's auc: 0.804014\tvalid_1's auc: 0.646429\n",
            "[1300]\ttraining's auc: 0.808124\tvalid_1's auc: 0.646796\n",
            "[1400]\ttraining's auc: 0.811853\tvalid_1's auc: 0.646639\n",
            "[1500]\ttraining's auc: 0.816606\tvalid_1's auc: 0.649212\n",
            "[1600]\ttraining's auc: 0.820834\tvalid_1's auc: 0.651208\n",
            "[1700]\ttraining's auc: 0.824715\tvalid_1's auc: 0.653414\n",
            "[1800]\ttraining's auc: 0.827518\tvalid_1's auc: 0.653782\n",
            "[1900]\ttraining's auc: 0.831607\tvalid_1's auc: 0.654727\n",
            "[2000]\ttraining's auc: 0.834886\tvalid_1's auc: 0.655042\n",
            "[2100]\ttraining's auc: 0.837811\tvalid_1's auc: 0.6552\n",
            "[2200]\ttraining's auc: 0.840395\tvalid_1's auc: 0.655147\n",
            "Early stopping, best iteration is:\n",
            "[1910]\ttraining's auc: 0.832259\tvalid_1's auc: 0.655672\n",
            "Fold: 7\n",
            "Training until validation scores don't improve for 300 rounds.\n"
          ],
          "name": "stdout"
        },
        {
          "output_type": "stream",
          "text": [
            "/usr/local/lib/python3.7/dist-packages/lightgbm/engine.py:118: UserWarning: Found `n_estimators` in params. Will use it instead of argument\n",
            "  warnings.warn(\"Found `{}` in params. Will use it instead of argument\".format(alias))\n",
            "/usr/local/lib/python3.7/dist-packages/lightgbm/engine.py:123: UserWarning: Found `early_stopping_rounds` in params. Will use it instead of argument\n",
            "  warnings.warn(\"Found `{}` in params. Will use it instead of argument\".format(alias))\n",
            "/usr/local/lib/python3.7/dist-packages/lightgbm/basic.py:1205: UserWarning: Using categorical_feature in Dataset.\n",
            "  warnings.warn('Using categorical_feature in Dataset.')\n",
            "/usr/local/lib/python3.7/dist-packages/lightgbm/basic.py:741: UserWarning: silent keyword has been found in `params` and will be ignored.\n",
            "Please use silent argument of the Dataset constructor to pass this parameter.\n",
            "  .format(key))\n",
            "/usr/local/lib/python3.7/dist-packages/lightgbm/basic.py:762: UserWarning: categorical_feature in param dict is overridden.\n",
            "  warnings.warn('categorical_feature in param dict is overridden.')\n"
          ],
          "name": "stderr"
        },
        {
          "output_type": "stream",
          "text": [
            "[100]\ttraining's auc: 0.741175\tvalid_1's auc: 0.634352\n",
            "[200]\ttraining's auc: 0.746386\tvalid_1's auc: 0.641078\n",
            "[300]\ttraining's auc: 0.752848\tvalid_1's auc: 0.645648\n",
            "[400]\ttraining's auc: 0.761349\tvalid_1's auc: 0.64611\n",
            "[500]\ttraining's auc: 0.767276\tvalid_1's auc: 0.648216\n",
            "[600]\ttraining's auc: 0.772583\tvalid_1's auc: 0.647754\n",
            "[700]\ttraining's auc: 0.779309\tvalid_1's auc: 0.646932\n",
            "[800]\ttraining's auc: 0.785384\tvalid_1's auc: 0.647394\n",
            "Early stopping, best iteration is:\n",
            "[511]\ttraining's auc: 0.768631\tvalid_1's auc: 0.648986\n",
            "Fold: 8\n"
          ],
          "name": "stdout"
        },
        {
          "output_type": "stream",
          "text": [
            "/usr/local/lib/python3.7/dist-packages/lightgbm/engine.py:118: UserWarning: Found `n_estimators` in params. Will use it instead of argument\n",
            "  warnings.warn(\"Found `{}` in params. Will use it instead of argument\".format(alias))\n",
            "/usr/local/lib/python3.7/dist-packages/lightgbm/engine.py:123: UserWarning: Found `early_stopping_rounds` in params. Will use it instead of argument\n",
            "  warnings.warn(\"Found `{}` in params. Will use it instead of argument\".format(alias))\n",
            "/usr/local/lib/python3.7/dist-packages/lightgbm/basic.py:1205: UserWarning: Using categorical_feature in Dataset.\n",
            "  warnings.warn('Using categorical_feature in Dataset.')\n",
            "/usr/local/lib/python3.7/dist-packages/lightgbm/basic.py:741: UserWarning: silent keyword has been found in `params` and will be ignored.\n",
            "Please use silent argument of the Dataset constructor to pass this parameter.\n",
            "  .format(key))\n",
            "/usr/local/lib/python3.7/dist-packages/lightgbm/basic.py:762: UserWarning: categorical_feature in param dict is overridden.\n",
            "  warnings.warn('categorical_feature in param dict is overridden.')\n"
          ],
          "name": "stderr"
        },
        {
          "output_type": "stream",
          "text": [
            "Training until validation scores don't improve for 300 rounds.\n",
            "[100]\ttraining's auc: 0.739338\tvalid_1's auc: 0.721463\n",
            "[200]\ttraining's auc: 0.745848\tvalid_1's auc: 0.715327\n",
            "[300]\ttraining's auc: 0.752599\tvalid_1's auc: 0.715584\n",
            "Early stopping, best iteration is:\n",
            "[71]\ttraining's auc: 0.733957\tvalid_1's auc: 0.726701\n",
            "Fold: 9\n"
          ],
          "name": "stdout"
        },
        {
          "output_type": "stream",
          "text": [
            "/usr/local/lib/python3.7/dist-packages/lightgbm/engine.py:118: UserWarning: Found `n_estimators` in params. Will use it instead of argument\n",
            "  warnings.warn(\"Found `{}` in params. Will use it instead of argument\".format(alias))\n",
            "/usr/local/lib/python3.7/dist-packages/lightgbm/engine.py:123: UserWarning: Found `early_stopping_rounds` in params. Will use it instead of argument\n",
            "  warnings.warn(\"Found `{}` in params. Will use it instead of argument\".format(alias))\n",
            "/usr/local/lib/python3.7/dist-packages/lightgbm/basic.py:1205: UserWarning: Using categorical_feature in Dataset.\n",
            "  warnings.warn('Using categorical_feature in Dataset.')\n",
            "/usr/local/lib/python3.7/dist-packages/lightgbm/basic.py:741: UserWarning: silent keyword has been found in `params` and will be ignored.\n",
            "Please use silent argument of the Dataset constructor to pass this parameter.\n",
            "  .format(key))\n",
            "/usr/local/lib/python3.7/dist-packages/lightgbm/basic.py:762: UserWarning: categorical_feature in param dict is overridden.\n",
            "  warnings.warn('categorical_feature in param dict is overridden.')\n"
          ],
          "name": "stderr"
        },
        {
          "output_type": "stream",
          "text": [
            "Training until validation scores don't improve for 300 rounds.\n",
            "[100]\ttraining's auc: 0.74797\tvalid_1's auc: 0.652169\n",
            "[200]\ttraining's auc: 0.752145\tvalid_1's auc: 0.653042\n",
            "[300]\ttraining's auc: 0.758376\tvalid_1's auc: 0.657304\n",
            "Early stopping, best iteration is:\n",
            "[5]\ttraining's auc: 0.736184\tvalid_1's auc: 0.676252\n",
            "Fold: 10\n",
            "Training until validation scores don't improve for 300 rounds.\n"
          ],
          "name": "stdout"
        },
        {
          "output_type": "stream",
          "text": [
            "/usr/local/lib/python3.7/dist-packages/lightgbm/engine.py:118: UserWarning: Found `n_estimators` in params. Will use it instead of argument\n",
            "  warnings.warn(\"Found `{}` in params. Will use it instead of argument\".format(alias))\n",
            "/usr/local/lib/python3.7/dist-packages/lightgbm/engine.py:123: UserWarning: Found `early_stopping_rounds` in params. Will use it instead of argument\n",
            "  warnings.warn(\"Found `{}` in params. Will use it instead of argument\".format(alias))\n",
            "/usr/local/lib/python3.7/dist-packages/lightgbm/basic.py:1205: UserWarning: Using categorical_feature in Dataset.\n",
            "  warnings.warn('Using categorical_feature in Dataset.')\n",
            "/usr/local/lib/python3.7/dist-packages/lightgbm/basic.py:741: UserWarning: silent keyword has been found in `params` and will be ignored.\n",
            "Please use silent argument of the Dataset constructor to pass this parameter.\n",
            "  .format(key))\n",
            "/usr/local/lib/python3.7/dist-packages/lightgbm/basic.py:762: UserWarning: categorical_feature in param dict is overridden.\n",
            "  warnings.warn('categorical_feature in param dict is overridden.')\n"
          ],
          "name": "stderr"
        },
        {
          "output_type": "stream",
          "text": [
            "[100]\ttraining's auc: 0.742353\tvalid_1's auc: 0.688832\n",
            "[200]\ttraining's auc: 0.747425\tvalid_1's auc: 0.684827\n",
            "[300]\ttraining's auc: 0.754325\tvalid_1's auc: 0.685392\n",
            "[400]\ttraining's auc: 0.762749\tvalid_1's auc: 0.685905\n",
            "Early stopping, best iteration is:\n",
            "[108]\ttraining's auc: 0.742077\tvalid_1's auc: 0.692375\n",
            "Fold: 11\n",
            "Training until validation scores don't improve for 300 rounds.\n"
          ],
          "name": "stdout"
        },
        {
          "output_type": "stream",
          "text": [
            "/usr/local/lib/python3.7/dist-packages/lightgbm/engine.py:118: UserWarning: Found `n_estimators` in params. Will use it instead of argument\n",
            "  warnings.warn(\"Found `{}` in params. Will use it instead of argument\".format(alias))\n",
            "/usr/local/lib/python3.7/dist-packages/lightgbm/engine.py:123: UserWarning: Found `early_stopping_rounds` in params. Will use it instead of argument\n",
            "  warnings.warn(\"Found `{}` in params. Will use it instead of argument\".format(alias))\n",
            "/usr/local/lib/python3.7/dist-packages/lightgbm/basic.py:1205: UserWarning: Using categorical_feature in Dataset.\n",
            "  warnings.warn('Using categorical_feature in Dataset.')\n",
            "/usr/local/lib/python3.7/dist-packages/lightgbm/basic.py:741: UserWarning: silent keyword has been found in `params` and will be ignored.\n",
            "Please use silent argument of the Dataset constructor to pass this parameter.\n",
            "  .format(key))\n",
            "/usr/local/lib/python3.7/dist-packages/lightgbm/basic.py:762: UserWarning: categorical_feature in param dict is overridden.\n",
            "  warnings.warn('categorical_feature in param dict is overridden.')\n"
          ],
          "name": "stderr"
        },
        {
          "output_type": "stream",
          "text": [
            "[100]\ttraining's auc: 0.737498\tvalid_1's auc: 0.754198\n",
            "[200]\ttraining's auc: 0.74448\tvalid_1's auc: 0.759949\n",
            "[300]\ttraining's auc: 0.751503\tvalid_1's auc: 0.764211\n",
            "[400]\ttraining's auc: 0.758797\tvalid_1's auc: 0.769653\n",
            "[500]\ttraining's auc: 0.765163\tvalid_1's auc: 0.771553\n",
            "[600]\ttraining's auc: 0.770273\tvalid_1's auc: 0.77371\n",
            "[700]\ttraining's auc: 0.776171\tvalid_1's auc: 0.774223\n",
            "[800]\ttraining's auc: 0.781387\tvalid_1's auc: 0.773659\n",
            "[900]\ttraining's auc: 0.786608\tvalid_1's auc: 0.774942\n",
            "[1000]\ttraining's auc: 0.791658\tvalid_1's auc: 0.774634\n",
            "[1100]\ttraining's auc: 0.79723\tvalid_1's auc: 0.775045\n",
            "[1200]\ttraining's auc: 0.801743\tvalid_1's auc: 0.776534\n",
            "[1300]\ttraining's auc: 0.806166\tvalid_1's auc: 0.776226\n",
            "[1400]\ttraining's auc: 0.81007\tvalid_1's auc: 0.776226\n",
            "[1500]\ttraining's auc: 0.815176\tvalid_1's auc: 0.776688\n",
            "[1600]\ttraining's auc: 0.819593\tvalid_1's auc: 0.778126\n",
            "[1700]\ttraining's auc: 0.823607\tvalid_1's auc: 0.77751\n",
            "[1800]\ttraining's auc: 0.826688\tvalid_1's auc: 0.777561\n",
            "Early stopping, best iteration is:\n",
            "[1591]\ttraining's auc: 0.819138\tvalid_1's auc: 0.778588\n",
            "Fold: 12\n",
            "Training until validation scores don't improve for 300 rounds.\n"
          ],
          "name": "stdout"
        },
        {
          "output_type": "stream",
          "text": [
            "/usr/local/lib/python3.7/dist-packages/lightgbm/engine.py:118: UserWarning: Found `n_estimators` in params. Will use it instead of argument\n",
            "  warnings.warn(\"Found `{}` in params. Will use it instead of argument\".format(alias))\n",
            "/usr/local/lib/python3.7/dist-packages/lightgbm/engine.py:123: UserWarning: Found `early_stopping_rounds` in params. Will use it instead of argument\n",
            "  warnings.warn(\"Found `{}` in params. Will use it instead of argument\".format(alias))\n",
            "/usr/local/lib/python3.7/dist-packages/lightgbm/basic.py:1205: UserWarning: Using categorical_feature in Dataset.\n",
            "  warnings.warn('Using categorical_feature in Dataset.')\n",
            "/usr/local/lib/python3.7/dist-packages/lightgbm/basic.py:741: UserWarning: silent keyword has been found in `params` and will be ignored.\n",
            "Please use silent argument of the Dataset constructor to pass this parameter.\n",
            "  .format(key))\n",
            "/usr/local/lib/python3.7/dist-packages/lightgbm/basic.py:762: UserWarning: categorical_feature in param dict is overridden.\n",
            "  warnings.warn('categorical_feature in param dict is overridden.')\n"
          ],
          "name": "stderr"
        },
        {
          "output_type": "stream",
          "text": [
            "[100]\ttraining's auc: 0.741309\tvalid_1's auc: 0.707789\n",
            "[200]\ttraining's auc: 0.746733\tvalid_1's auc: 0.709842\n",
            "[300]\ttraining's auc: 0.751758\tvalid_1's auc: 0.715316\n",
            "Early stopping, best iteration is:\n",
            "[8]\ttraining's auc: 0.744746\tvalid_1's auc: 0.730789\n",
            "Fold: 13\n",
            "Training until validation scores don't improve for 300 rounds.\n"
          ],
          "name": "stdout"
        },
        {
          "output_type": "stream",
          "text": [
            "/usr/local/lib/python3.7/dist-packages/lightgbm/engine.py:118: UserWarning: Found `n_estimators` in params. Will use it instead of argument\n",
            "  warnings.warn(\"Found `{}` in params. Will use it instead of argument\".format(alias))\n",
            "/usr/local/lib/python3.7/dist-packages/lightgbm/engine.py:123: UserWarning: Found `early_stopping_rounds` in params. Will use it instead of argument\n",
            "  warnings.warn(\"Found `{}` in params. Will use it instead of argument\".format(alias))\n",
            "/usr/local/lib/python3.7/dist-packages/lightgbm/basic.py:1205: UserWarning: Using categorical_feature in Dataset.\n",
            "  warnings.warn('Using categorical_feature in Dataset.')\n",
            "/usr/local/lib/python3.7/dist-packages/lightgbm/basic.py:741: UserWarning: silent keyword has been found in `params` and will be ignored.\n",
            "Please use silent argument of the Dataset constructor to pass this parameter.\n",
            "  .format(key))\n",
            "/usr/local/lib/python3.7/dist-packages/lightgbm/basic.py:762: UserWarning: categorical_feature in param dict is overridden.\n",
            "  warnings.warn('categorical_feature in param dict is overridden.')\n"
          ],
          "name": "stderr"
        },
        {
          "output_type": "stream",
          "text": [
            "[100]\ttraining's auc: 0.748696\tvalid_1's auc: 0.634368\n",
            "[200]\ttraining's auc: 0.753107\tvalid_1's auc: 0.632579\n",
            "[300]\ttraining's auc: 0.759269\tvalid_1's auc: 0.629526\n",
            "Early stopping, best iteration is:\n",
            "[99]\ttraining's auc: 0.74843\tvalid_1's auc: 0.634684\n",
            "Fold: 14\n",
            "Training until validation scores don't improve for 300 rounds.\n"
          ],
          "name": "stdout"
        },
        {
          "output_type": "stream",
          "text": [
            "/usr/local/lib/python3.7/dist-packages/lightgbm/engine.py:118: UserWarning: Found `n_estimators` in params. Will use it instead of argument\n",
            "  warnings.warn(\"Found `{}` in params. Will use it instead of argument\".format(alias))\n",
            "/usr/local/lib/python3.7/dist-packages/lightgbm/engine.py:123: UserWarning: Found `early_stopping_rounds` in params. Will use it instead of argument\n",
            "  warnings.warn(\"Found `{}` in params. Will use it instead of argument\".format(alias))\n",
            "/usr/local/lib/python3.7/dist-packages/lightgbm/basic.py:1205: UserWarning: Using categorical_feature in Dataset.\n",
            "  warnings.warn('Using categorical_feature in Dataset.')\n",
            "/usr/local/lib/python3.7/dist-packages/lightgbm/basic.py:741: UserWarning: silent keyword has been found in `params` and will be ignored.\n",
            "Please use silent argument of the Dataset constructor to pass this parameter.\n",
            "  .format(key))\n",
            "/usr/local/lib/python3.7/dist-packages/lightgbm/basic.py:762: UserWarning: categorical_feature in param dict is overridden.\n",
            "  warnings.warn('categorical_feature in param dict is overridden.')\n"
          ],
          "name": "stderr"
        },
        {
          "output_type": "stream",
          "text": [
            "[100]\ttraining's auc: 0.741215\tvalid_1's auc: 0.642526\n",
            "[200]\ttraining's auc: 0.748739\tvalid_1's auc: 0.638053\n",
            "[300]\ttraining's auc: 0.754941\tvalid_1's auc: 0.642737\n",
            "Early stopping, best iteration is:\n",
            "[8]\ttraining's auc: 0.744715\tvalid_1's auc: 0.645632\n",
            "Fold: 15\n",
            "Training until validation scores don't improve for 300 rounds.\n"
          ],
          "name": "stdout"
        },
        {
          "output_type": "stream",
          "text": [
            "/usr/local/lib/python3.7/dist-packages/lightgbm/engine.py:118: UserWarning: Found `n_estimators` in params. Will use it instead of argument\n",
            "  warnings.warn(\"Found `{}` in params. Will use it instead of argument\".format(alias))\n",
            "/usr/local/lib/python3.7/dist-packages/lightgbm/engine.py:123: UserWarning: Found `early_stopping_rounds` in params. Will use it instead of argument\n",
            "  warnings.warn(\"Found `{}` in params. Will use it instead of argument\".format(alias))\n",
            "/usr/local/lib/python3.7/dist-packages/lightgbm/basic.py:1205: UserWarning: Using categorical_feature in Dataset.\n",
            "  warnings.warn('Using categorical_feature in Dataset.')\n",
            "/usr/local/lib/python3.7/dist-packages/lightgbm/basic.py:741: UserWarning: silent keyword has been found in `params` and will be ignored.\n",
            "Please use silent argument of the Dataset constructor to pass this parameter.\n",
            "  .format(key))\n",
            "/usr/local/lib/python3.7/dist-packages/lightgbm/basic.py:762: UserWarning: categorical_feature in param dict is overridden.\n",
            "  warnings.warn('categorical_feature in param dict is overridden.')\n"
          ],
          "name": "stderr"
        },
        {
          "output_type": "stream",
          "text": [
            "[100]\ttraining's auc: 0.743869\tvalid_1's auc: 0.627605\n",
            "[200]\ttraining's auc: 0.748934\tvalid_1's auc: 0.631579\n",
            "[300]\ttraining's auc: 0.75505\tvalid_1's auc: 0.636789\n",
            "Early stopping, best iteration is:\n",
            "[11]\ttraining's auc: 0.741095\tvalid_1's auc: 0.646737\n",
            "OOF score : 0.6528866513453655\n"
          ],
          "name": "stdout"
        }
      ]
    },
    {
      "cell_type": "code",
      "metadata": {
        "colab": {
          "base_uri": "https://localhost:8080/"
        },
        "id": "768de6XlZBtb",
        "outputId": "2cab652f-5127-4e6e-af85-10e850bf7c76"
      },
      "source": [
        "lightgbm_preds = np.mean(lgb_preds,axis=0)\n",
        "lightgbm_preds"
      ],
      "execution_count": 15,
      "outputs": [
        {
          "output_type": "execute_result",
          "data": {
            "text/plain": [
              "array([0.08010346, 0.06535318, 0.07357316, ..., 0.08051291, 0.09515759,\n",
              "       0.12804304])"
            ]
          },
          "metadata": {
            "tags": []
          },
          "execution_count": 15
        }
      ]
    },
    {
      "cell_type": "code",
      "metadata": {
        "id": "FvHiGmJ0blry"
      },
      "source": [
        "ss.target= lightgbm_preds\n",
        "ss.to_csv('Umoja', index=False)"
      ],
      "execution_count": 16,
      "outputs": []
    },
    {
      "cell_type": "code",
      "metadata": {
        "id": "1oJDIj-i2ZHH"
      },
      "source": [
        ""
      ],
      "execution_count": 16,
      "outputs": []
    }
  ]
}